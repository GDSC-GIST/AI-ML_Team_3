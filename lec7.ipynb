{
  "nbformat": 4,
  "nbformat_minor": 0,
  "metadata": {
    "colab": {
      "name": "lec7.ipynb",
      "private_outputs": true,
      "provenance": [],
      "collapsed_sections": [
        "bfu6u6B-DnL3",
        "25e0mk-QDma1",
        "3O07XNihDxaZ",
        "4KMaMiEkJ8ID",
        "wLg51cLBKbt6",
        "O-SCsVKBLBht",
        "SfekKUXbLONi",
        "DcRI-acyLxEk",
        "Vh9tRw6rMWGp",
        "cIXeipGINBk3"
      ]
    },
    "kernelspec": {
      "name": "python3",
      "display_name": "Python 3"
    },
    "language_info": {
      "name": "python"
    }
  },
  "cells": [
    {
      "cell_type": "markdown",
      "metadata": {
        "id": "sKnSvy9ZB2uT"
      },
      "source": [
        "# info\n",
        "- by: LeeHaEun\n",
        "- start: 21.11.22 Mon\n",
        "- end: 21.11.22 Mon\n",
        "- review: 21.11.22 Mon"
      ]
    },
    {
      "cell_type": "markdown",
      "metadata": {
        "id": "0AUv3T4OB6-Z"
      },
      "source": [
        "# theme:Saving and loading models"
      ]
    },
    {
      "cell_type": "markdown",
      "metadata": {
        "id": "R7dvu8UeCFmP"
      },
      "source": [
        "- 훈련된 모델을 저장 가능 -> 효율\n",
        "- 텐서플로우 등의 배포 라이브러리 중 하나를 사용\n",
        "  - 텐서플로우 라이트: 안드로이드, ios 등에서 가능\n",
        "  - 텐서플로우 js: 자바스크립트 환경에서 모델 배포하기 위함"
      ]
    },
    {
      "cell_type": "markdown",
      "metadata": {
        "id": "eM9jGx2IDZyB"
      },
      "source": [
        "# code_l07c01_saving_and_loading_models"
      ]
    },
    {
      "cell_type": "markdown",
      "metadata": {
        "id": "bfu6u6B-DnL3"
      },
      "source": [
        "## import"
      ]
    },
    {
      "cell_type": "code",
      "metadata": {
        "id": "l9CUJyP9Dm8w"
      },
      "source": [
        "!pip install -U tensorflow_hub\n",
        "!pip install -U tensorflow_datasets"
      ],
      "execution_count": null,
      "outputs": []
    },
    {
      "cell_type": "code",
      "metadata": {
        "id": "UbUivcNnBuZj"
      },
      "source": [
        "import time\n",
        "import numpy as np\n",
        "import matplotlib.pylab as plt\n",
        "\n",
        "import tensorflow as tf\n",
        "import tensorflow_hub as hub\n",
        "import tensorflow_datasets as tfds\n",
        "tfds.disable_progress_bar()\n",
        "\n",
        "from tensorflow.keras import layers"
      ],
      "execution_count": null,
      "outputs": []
    },
    {
      "cell_type": "markdown",
      "metadata": {
        "id": "25e0mk-QDma1"
      },
      "source": [
        "## part1: Load the Cats vs. Dogs Dataset"
      ]
    },
    {
      "cell_type": "code",
      "metadata": {
        "id": "PYGY3hPCDzlu"
      },
      "source": [
        "(train_examples, validation_examples), info = tfds.load(\n",
        "    'cats_vs_dogs',\n",
        "    split=['train[:80%]', 'train[80%:]'],\n",
        "    with_info=True,\n",
        "    as_supervised=True,\n",
        ")"
      ],
      "execution_count": null,
      "outputs": []
    },
    {
      "cell_type": "code",
      "metadata": {
        "id": "gAXWsWVCD0Ei"
      },
      "source": [
        "def format_image(image, label):\n",
        "  # `hub` image modules exepct their data normalized to the [0,1] range.\n",
        "  image = tf.image.resize(image, (IMAGE_RES, IMAGE_RES))/255.0\n",
        "  return  image, label\n",
        "\n",
        "num_examples = info.splits['train'].num_examples\n",
        "\n",
        "BATCH_SIZE = 32\n",
        "IMAGE_RES = 224\n",
        "\n",
        "train_batches      = train_examples.cache().shuffle(num_examples//4).map(format_image).batch(BATCH_SIZE).prefetch(1)\n",
        "validation_batches = validation_examples.cache().map(format_image).batch(BATCH_SIZE).prefetch(1)"
      ],
      "execution_count": null,
      "outputs": []
    },
    {
      "cell_type": "markdown",
      "metadata": {
        "id": "3O07XNihDxaZ"
      },
      "source": [
        "## Part 2: Transfer Learning with TensorFlow Hub"
      ]
    },
    {
      "cell_type": "code",
      "metadata": {
        "id": "IIfSI5byEEMK"
      },
      "source": [
        "URL = \"https://tfhub.dev/google/tf2-preview/mobilenet_v2/feature_vector/4\"\n",
        "feature_extractor = hub.KerasLayer(URL,\n",
        "                                   input_shape=(IMAGE_RES, IMAGE_RES,3))"
      ],
      "execution_count": null,
      "outputs": []
    },
    {
      "cell_type": "code",
      "metadata": {
        "id": "aXtYnB4QEGCh"
      },
      "source": [
        "# 훈련 못시키게 동결시켜버리기\n",
        "feature_extractor.trainable = False"
      ],
      "execution_count": null,
      "outputs": []
    },
    {
      "cell_type": "code",
      "metadata": {
        "id": "fyKAtIyuEYG6"
      },
      "source": [
        "# 트랜스퍼 러닝으로 불러온 레이어로 레이어 세팅\n",
        "model = tf.keras.Sequential([\n",
        "  feature_extractor,\n",
        "  layers.Dense(2)\n",
        "])\n",
        "\n",
        "model.summary()"
      ],
      "execution_count": null,
      "outputs": []
    },
    {
      "cell_type": "code",
      "metadata": {
        "id": "0oBCoJAyEd8c"
      },
      "source": [
        "# 모델 훈련시키기\n",
        "model.compile(\n",
        "  optimizer='adam', \n",
        "  loss=tf.losses.SparseCategoricalCrossentropy(from_logits=True),\n",
        "  metrics=['accuracy'])\n",
        "\n",
        "EPOCHS = 3\n",
        "history = model.fit(train_batches,\n",
        "                    epochs=EPOCHS,\n",
        "                    validation_data=validation_batches)"
      ],
      "execution_count": null,
      "outputs": []
    },
    {
      "cell_type": "code",
      "metadata": {
        "id": "lZIwiz4xElo_"
      },
      "source": [
        "# 클래스 이름 설정\n",
        "class_names = np.array(info.features['label'].names)\n",
        "class_names"
      ],
      "execution_count": null,
      "outputs": []
    },
    {
      "cell_type": "code",
      "metadata": {
        "id": "axtWIleGErX6"
      },
      "source": [
        "image_batch, label_batch = next(iter(train_batches.take(1)))\n",
        "image_batch = image_batch.numpy()\n",
        "label_batch = label_batch.numpy()\n",
        "\n",
        "predicted_batch = model.predict(image_batch)\n",
        "predicted_batch = tf.squeeze(predicted_batch).numpy()\n",
        "predicted_ids = np.argmax(predicted_batch, axis=-1)\n",
        "predicted_class_names = class_names[predicted_ids]\n",
        "predicted_class_names"
      ],
      "execution_count": null,
      "outputs": []
    },
    {
      "cell_type": "code",
      "metadata": {
        "id": "ZIPmBgBQIj7o"
      },
      "source": [
        "# 실제로 확인해봅시다\n",
        "print(\"Labels: \", label_batch)\n",
        "print(\"Predicted labels: \", predicted_ids)\n",
        "\n",
        "plt.figure(figsize=(10,9))\n",
        "for n in range(30):\n",
        "  plt.subplot(6,5,n+1)\n",
        "  plt.imshow(image_batch[n])\n",
        "  color = \"blue\" if predicted_ids[n] == label_batch[n] else \"red\"\n",
        "  plt.title(predicted_class_names[n].title(), color=color)\n",
        "  plt.axis('off')\n",
        "_ = plt.suptitle(\"Model predictions (blue: correct, red: incorrect)\")"
      ],
      "execution_count": null,
      "outputs": []
    },
    {
      "cell_type": "markdown",
      "metadata": {
        "id": "4KMaMiEkJ8ID"
      },
      "source": [
        "## Part 3: Save as Keras `.h5` model"
      ]
    },
    {
      "cell_type": "code",
      "metadata": {
        "id": "H9QMvZiqJ-NF"
      },
      "source": [
        "t = time.time()\n",
        "\n",
        "export_path_keras = \"./{}.h5\".format(int(t))\n",
        "print(export_path_keras)\n",
        "\n",
        "model.save(export_path_keras)"
      ],
      "execution_count": null,
      "outputs": []
    },
    {
      "cell_type": "code",
      "metadata": {
        "id": "HijLjOTIKGFb"
      },
      "source": [
        "!ls"
      ],
      "execution_count": null,
      "outputs": []
    },
    {
      "cell_type": "markdown",
      "metadata": {
        "id": "wLg51cLBKbt6"
      },
      "source": [
        "## Part 4:  Load the Keras `.h5` Model"
      ]
    },
    {
      "cell_type": "code",
      "metadata": {
        "id": "BJ5kXBjsKbcI"
      },
      "source": [
        "reloaded = tf.keras.models.load_model(\n",
        "  export_path_keras, \n",
        "  # `custom_objects` tells keras how to load a `hub.KerasLayer`\n",
        "  custom_objects={'KerasLayer': hub.KerasLayer})\n",
        "\n",
        "reloaded.summary()"
      ],
      "execution_count": null,
      "outputs": []
    },
    {
      "cell_type": "code",
      "metadata": {
        "id": "X948zr6wKg3I"
      },
      "source": [
        "result_batch = model.predict(image_batch)\n",
        "reloaded_result_batch = reloaded.predict(image_batch)"
      ],
      "execution_count": null,
      "outputs": []
    },
    {
      "cell_type": "code",
      "metadata": {
        "id": "p0xveEENKmkY"
      },
      "source": [
        "(abs(result_batch - reloaded_result_batch)).max()\n",
        "# = 0 ; 두 모델의 예측이 같다"
      ],
      "execution_count": null,
      "outputs": []
    },
    {
      "cell_type": "markdown",
      "metadata": {
        "id": "O-SCsVKBLBht"
      },
      "source": [
        "##keep training"
      ]
    },
    {
      "cell_type": "code",
      "metadata": {
        "id": "I3RL6CVuLBSG"
      },
      "source": [
        "# reload & 계속해서 트레이닝!\n",
        "EPOCHS = 3\n",
        "history = reloaded.fit(train_batches,\n",
        "                    epochs=EPOCHS,\n",
        "                    validation_data=validation_batches)"
      ],
      "execution_count": null,
      "outputs": []
    },
    {
      "cell_type": "markdown",
      "metadata": {
        "id": "SfekKUXbLONi"
      },
      "source": [
        "## Part 5: Export as SavedModel"
      ]
    },
    {
      "cell_type": "code",
      "metadata": {
        "id": "hAaw_aFALRBT"
      },
      "source": [
        "t = time.time()\n",
        "\n",
        "export_path_sm = \"./{}\".format(int(t))\n",
        "print(export_path_sm)\n",
        "\n",
        "tf.saved_model.save(model, export_path_sm) #모델, 경로 -> 저장"
      ],
      "execution_count": null,
      "outputs": []
    },
    {
      "cell_type": "code",
      "metadata": {
        "id": "E_qk6e4cLTbw"
      },
      "source": [
        "!ls {export_path_sm}"
      ],
      "execution_count": null,
      "outputs": []
    },
    {
      "cell_type": "markdown",
      "metadata": {
        "id": "DcRI-acyLxEk"
      },
      "source": [
        "## Part 6: Load SavedModel"
      ]
    },
    {
      "cell_type": "code",
      "metadata": {
        "id": "RUNHwDpKLw4y"
      },
      "source": [
        "# tf_saved_model.load(): 세이브한 모델을 불러온다\n",
        "reloaded_sm = tf.saved_model.load(export_path_sm)\n",
        "# reloaded_sm: 세이브한 모델로 예측 돌리기\n",
        "reload_sm_result_batch = reloaded_sm(image_batch, training=False).numpy()\n",
        "# 이전의 모델과 세이브한 모델의 차이 확인\n",
        "(abs(result_batch - reload_sm_result_batch)).max() # = 0"
      ],
      "execution_count": null,
      "outputs": []
    },
    {
      "cell_type": "markdown",
      "metadata": {
        "id": "Vh9tRw6rMWGp"
      },
      "source": [
        "## Part 7: Loading the SavedModel as a Keras Model\n"
      ]
    },
    {
      "cell_type": "code",
      "metadata": {
        "id": "OxfekbMSMVq2"
      },
      "source": [
        "t = time.time()\n",
        "\n",
        "export_path_sm = \"./{}\".format(int(t))\n",
        "print(export_path_sm)\n",
        "tf.saved_model.save(model, export_path_sm)"
      ],
      "execution_count": null,
      "outputs": []
    },
    {
      "cell_type": "code",
      "metadata": {
        "id": "xcWnDgkcMb61"
      },
      "source": [
        "# tf_saved_model.load() = 케라스 레이어x(fit, predict, summary 없음)\n",
        "# => tf.keras.models.load_model 사용 필요\n",
        "reload_sm_keras = tf.keras.models.load_model(\n",
        "  export_path_sm,\n",
        "  custom_objects={'KerasLayer': hub.KerasLayer})\n",
        "\n",
        "reload_sm_keras.summary()"
      ],
      "execution_count": null,
      "outputs": []
    },
    {
      "cell_type": "code",
      "metadata": {
        "id": "5oshnuZVMdeF"
      },
      "source": [
        "result_batch = model.predict(image_batch)\n",
        "reload_sm_keras_result_batch = reload_sm_keras.predict(image_batch)"
      ],
      "execution_count": null,
      "outputs": []
    },
    {
      "cell_type": "code",
      "metadata": {
        "id": "rEiHhvbOMeo_"
      },
      "source": [
        "(abs(result_batch - reload_sm_keras_result_batch)).max()"
      ],
      "execution_count": null,
      "outputs": []
    },
    {
      "cell_type": "markdown",
      "metadata": {
        "id": "cIXeipGINBk3"
      },
      "source": [
        "## Part 8:  Download your model"
      ]
    },
    {
      "cell_type": "code",
      "metadata": {
        "id": "IXn5FLtUNENe"
      },
      "source": [
        "# local disk에서 zio파일로 다운로드 가능\n",
        "!zip -r model.zip {export_path_sm}\n",
        "!ls"
      ],
      "execution_count": null,
      "outputs": []
    },
    {
      "cell_type": "code",
      "metadata": {
        "id": "bGeuAQfzNH8Z"
      },
      "source": [
        "# file.download(): 현재 작업 디렉토리에서 파일 검색\n",
        "try:\n",
        "  from google.colab import files\n",
        "  files.download('./model.zip')\n",
        "except ImportError:\n",
        "  pass"
      ],
      "execution_count": null,
      "outputs": []
    }
  ]
}